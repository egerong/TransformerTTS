{
 "cells": [
  {
   "cell_type": "code",
   "execution_count": 27,
   "metadata": {},
   "outputs": [],
   "source": [
    "from pathlib import Path\n",
    "\n",
    "import numpy as np\n",
    "\n",
    "from utils.config_manager import Config\n",
    "from model.factory import tts_ljspeech, tts_custom\n",
    "from data.audio import Audio\n",
    "\n"
   ]
  },
  {
   "cell_type": "code",
   "execution_count": 28,
   "metadata": {},
   "outputs": [
    {
     "name": "stdout",
     "output_type": "stream",
     "text": [
      "restored weights from logs/peeter_jutustav_16/ljspeech/tts_config_est.aligner_config/weights/ckpt-312 at step 260000\n"
     ]
    }
   ],
   "source": [
    "config_path = 'config/peeter_jutustav_16/session_paths.yaml'\n",
    "config_loader = Config(config_path=config_path)\n",
    "model = config_loader.load_model(None)  # if None defaults to latest\n",
    "conf = config_loader.config\n",
    "audio = Audio(conf)"
   ]
  },
  {
   "cell_type": "code",
   "execution_count": 41,
   "metadata": {},
   "outputs": [],
   "source": [
    "text = 'Karu oli hoolimatu, lampjalgne ja räpane.'"
   ]
  },
  {
   "cell_type": "code",
   "execution_count": 42,
   "metadata": {},
   "outputs": [
    {
     "name": "stdout",
     "output_type": "stream",
     "text": [
      "karʊ oʎɪ hoːʎimatu,lampjalɡne ja ræpane.\n"
     ]
    }
   ],
   "source": [
    "# Phonemize\n",
    "phons = model.text_pipeline.phonemizer(text)\n",
    "print(phons)"
   ]
  },
  {
   "cell_type": "code",
   "execution_count": 43,
   "metadata": {},
   "outputs": [
    {
     "name": "stdout",
     "output_type": "stream",
     "text": [
      "[21, 12, 28, 98, 1, 25, 102, 72, 1, 18, 25, 119, 102, 19, 23, 12, 30, 31, 6, 22, 12, 23, 26, 20, 12, 22, 64, 24, 16, 1, 20, 12, 1, 28, 37, 26, 12, 24, 16, 8]\n"
     ]
    }
   ],
   "source": [
    "# Tokenize\n",
    "tokens = model.text_pipeline.tokenizer(phons)\n",
    "print(tokens)"
   ]
  },
  {
   "cell_type": "code",
   "execution_count": 44,
   "metadata": {},
   "outputs": [
    {
     "name": "stdout",
     "output_type": "stream",
     "text": [
      "(80, 178)\n"
     ]
    }
   ],
   "source": [
    "# Run model\n",
    "out = model.predict(tokens, encode=False, phoneme_max_duration=None)\n",
    "mel = out['mel'].numpy().T\n",
    "print(mel.shape)"
   ]
  },
  {
   "cell_type": "code",
   "execution_count": 45,
   "metadata": {},
   "outputs": [
    {
     "name": "stdout",
     "output_type": "stream",
     "text": [
      "(80, 513)\n"
     ]
    }
   ],
   "source": [
    "# Create Mel basis\n",
    "from librosa import filters\n",
    "mel_basis = filters.mel(\n",
    "    sr = audio.config['sampling_rate'],\n",
    "    n_fft=audio.config['n_fft'],\n",
    "    n_mels=audio.config['mel_channels'],\n",
    "    fmin=audio.config['f_min'],\n",
    "    fmax=audio.config['f_max']\n",
    ")\n",
    "print(mel_basis.shape)"
   ]
  },
  {
   "cell_type": "code",
   "execution_count": 46,
   "metadata": {},
   "outputs": [
    {
     "name": "stdout",
     "output_type": "stream",
     "text": [
      "(513, 178)\n"
     ]
    }
   ],
   "source": [
    "\n",
    "# Compute NNLS\n",
    "from librosa.util import nnls\n",
    "amp_mel = audio._denormalize(mel)\n",
    "inverse = nnls(mel_basis, amp_mel)\n",
    "np.power(inverse, 1./1, out=inverse)\n",
    "print(inverse.shape)"
   ]
  },
  {
   "cell_type": "code",
   "execution_count": 47,
   "metadata": {},
   "outputs": [],
   "source": [
    "# Griffin-lim\n",
    "from librosa.core import griffinlim\n",
    "wav = griffinlim(\n",
    "    inverse,\n",
    "    n_iter = 32,\n",
    "    hop_length=audio.config['hop_length'],\n",
    "    win_length=audio.config['win_length'],\n",
    ")"
   ]
  },
  {
   "cell_type": "code",
   "execution_count": 48,
   "metadata": {},
   "outputs": [],
   "source": [
    "outdir = Path('outputs/test')\n",
    "outdir.mkdir(exist_ok=True, parents=True)\n",
    "audio.save_wav(wav, (outdir / f\"test\").with_suffix('.wav'))"
   ]
  }
 ],
 "metadata": {
  "interpreter": {
   "hash": "236e00bcc6e4f55c8503491e10a3f5f8ad830d47cfa726cc786ed28b9fedc3b1"
  },
  "kernelspec": {
   "display_name": "Python 3.8.0 64-bit ('TU-TTS': conda)",
   "name": "python3"
  },
  "language_info": {
   "codemirror_mode": {
    "name": "ipython",
    "version": 3
   },
   "file_extension": ".py",
   "mimetype": "text/x-python",
   "name": "python",
   "nbconvert_exporter": "python",
   "pygments_lexer": "ipython3",
   "version": "3.8.0"
  },
  "orig_nbformat": 4
 },
 "nbformat": 4,
 "nbformat_minor": 2
}
