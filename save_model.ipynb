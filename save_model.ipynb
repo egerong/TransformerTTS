{
 "cells": [
  {
   "cell_type": "code",
   "execution_count": 1,
   "metadata": {},
   "outputs": [
    {
     "name": "stderr",
     "output_type": "stream",
     "text": [
      "2021-11-29 12:42:22.119862: I tensorflow/stream_executor/platform/default/dso_loader.cc:53] Successfully opened dynamic library libcudart.so.11.0\n"
     ]
    }
   ],
   "source": [
    "from pathlib import Path\n",
    "\n",
    "import numpy as np\n",
    "\n",
    "from model.factory import tts_ljspeech, tts_custom\n",
    "from utils.config_manager import Config\n",
    "from data.audio import Audio\n",
    "from vocoding.predictors import HiFiGANPredictor, MelGANPredictor\n",
    "\n",
    "\n",
    "    \n",
    "    \n",
    "  \n",
    "        \n",
    "    "
   ]
  },
  {
   "cell_type": "code",
   "execution_count": 2,
   "metadata": {},
   "outputs": [],
   "source": [
    "vocoder = HiFiGANPredictor.from_folder('vocoding/hifigan/vctk')"
   ]
  },
  {
   "cell_type": "code",
   "execution_count": null,
   "metadata": {},
   "outputs": [],
   "source": [
    "batch_size = 8\n",
    "h = 33\n",
    "w = 45\n",
    "data = np.random.normal(1, 1, size=(batch_size, h, w))\n",
    "data = torch.Tensor(data)\n",
    "h0, c0 = torch.zeros(1, batch_size, w), torch.zeros(1, batch_size, w)\n",
    "\n",
    "traced_script_module = torch.jit.trace(model, (data, h0,c0))\n",
    "traced_script_module.save('model.pt')"
   ]
  }
 ],
 "metadata": {
  "interpreter": {
   "hash": "236e00bcc6e4f55c8503491e10a3f5f8ad830d47cfa726cc786ed28b9fedc3b1"
  },
  "kernelspec": {
   "display_name": "Python 3.8.0 64-bit ('TU-TTS': conda)",
   "language": "python",
   "name": "python3"
  },
  "language_info": {
   "codemirror_mode": {
    "name": "ipython",
    "version": 3
   },
   "file_extension": ".py",
   "mimetype": "text/x-python",
   "name": "python",
   "nbconvert_exporter": "python",
   "pygments_lexer": "ipython3",
   "version": "3.8.0"
  },
  "orig_nbformat": 4
 },
 "nbformat": 4,
 "nbformat_minor": 2
}
